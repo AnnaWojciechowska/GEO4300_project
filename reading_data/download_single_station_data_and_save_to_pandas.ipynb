{
 "cells": [
  {
   "cell_type": "code",
   "execution_count": 1,
   "id": "infrared-alberta",
   "metadata": {},
   "outputs": [],
   "source": [
    "import requests\n",
    "import pandas as pd\n",
    "import io  \n",
    "from datetime import datetime as dt"
   ]
  },
  {
   "cell_type": "code",
   "execution_count": 2,
   "id": "saving-johnson",
   "metadata": {},
   "outputs": [],
   "source": [
    "def extract_header_and_data(lines):\n",
    "    header, data = [], 'timestamp  level\\n'\n",
    "    for line in lines:\n",
    "        if line.startswith(\"#\"):\n",
    "            header.append(line)\n",
    "        else:\n",
    "            data += line + '\\n'\n",
    "    return header, data"
   ]
  },
  {
   "cell_type": "code",
   "execution_count": 3,
   "id": "received-dating",
   "metadata": {},
   "outputs": [
    {
     "name": "stdout",
     "output_type": "stream",
     "text": [
      "\n"
     ]
    }
   ],
   "source": [
    "#refcode\n",
    "start_date = '2022-09-15'\n",
    "end_date = '2022-09-21'\n",
    "lat = '58.97433900'\n",
    "lon = '5.73012100'\n",
    "place = 'SVG'\n",
    "interval = 10 #10\n",
    "datatype = 'OBS' \n",
    "\n",
    "#PRE= predictions = astronomic tide\n",
    "#OBS = observations = measured water level\n",
    "\n",
    "'''\n",
    "dst = \n",
    "(optional, default=0): if this parameter is ‘1’ the times will be shown \n",
    "in time zone utc+2 in thedaylight savings time period. \n",
    "If value is ‘2’ time in response will be the\n",
    "difference from the time of the first value in series. The value of the start time\n",
    "will be shown as <data reftime=\"2017-01-26T00:00:00+01:00\">\n",
    "'''\n",
    "print()"
   ]
  },
  {
   "cell_type": "code",
   "execution_count": 4,
   "id": "aboriginal-semester",
   "metadata": {},
   "outputs": [
    {
     "name": "stdout",
     "output_type": "stream",
     "text": [
      "http://api.sehavniva.no/tideapi.php?tide_request=locationdata&lat=58.97433900&lon=5.73012100&datatype=OBS&file=txt&lang=en&place=SVG&dst=1&refcode=CD&fromtime=2022-09-15&totime=2022-09-21&interval=10\n"
     ]
    }
   ],
   "source": [
    "url= 'http://api.sehavniva.no/tideapi.php?tide_request=locationdata&lat={}&lon={}\\\n",
    "&datatype={}&file=txt&lang=en&place={}&dst=1&refcode=CD&\\\n",
    "fromtime={}&totime={}&interval=10'.format(lat, lon,datatype, place, start_date, end_date)\n",
    "print(url)\n",
    "res = requests.get(url)\n",
    "#res.text"
   ]
  },
  {
   "cell_type": "code",
   "execution_count": 5,
   "id": "german-mounting",
   "metadata": {},
   "outputs": [
    {
     "data": {
      "text/html": [
       "<div>\n",
       "<style scoped>\n",
       "    .dataframe tbody tr th:only-of-type {\n",
       "        vertical-align: middle;\n",
       "    }\n",
       "\n",
       "    .dataframe tbody tr th {\n",
       "        vertical-align: top;\n",
       "    }\n",
       "\n",
       "    .dataframe thead th {\n",
       "        text-align: right;\n",
       "    }\n",
       "</style>\n",
       "<table border=\"1\" class=\"dataframe\">\n",
       "  <thead>\n",
       "    <tr style=\"text-align: right;\">\n",
       "      <th></th>\n",
       "      <th>timestamp</th>\n",
       "      <th>level</th>\n",
       "    </tr>\n",
       "  </thead>\n",
       "  <tbody>\n",
       "    <tr>\n",
       "      <th>0</th>\n",
       "      <td>2022-09-15 01:00:00</td>\n",
       "      <td>91.7</td>\n",
       "    </tr>\n",
       "    <tr>\n",
       "      <th>1</th>\n",
       "      <td>2022-09-15 01:10:00</td>\n",
       "      <td>94.5</td>\n",
       "    </tr>\n",
       "    <tr>\n",
       "      <th>2</th>\n",
       "      <td>2022-09-15 01:20:00</td>\n",
       "      <td>97.5</td>\n",
       "    </tr>\n",
       "    <tr>\n",
       "      <th>3</th>\n",
       "      <td>2022-09-15 01:30:00</td>\n",
       "      <td>100.7</td>\n",
       "    </tr>\n",
       "    <tr>\n",
       "      <th>4</th>\n",
       "      <td>2022-09-15 01:40:00</td>\n",
       "      <td>103.5</td>\n",
       "    </tr>\n",
       "  </tbody>\n",
       "</table>\n",
       "</div>"
      ],
      "text/plain": [
       "            timestamp  level\n",
       "0 2022-09-15 01:00:00   91.7\n",
       "1 2022-09-15 01:10:00   94.5\n",
       "2 2022-09-15 01:20:00   97.5\n",
       "3 2022-09-15 01:30:00  100.7\n",
       "4 2022-09-15 01:40:00  103.5"
      ]
     },
     "execution_count": 5,
     "metadata": {},
     "output_type": "execute_result"
    }
   ],
   "source": [
    "response_text = res.text.split('\\r\\n')\n",
    "header, data = extract_header_and_data(response_text)\n",
    "df = pd.read_csv(io.StringIO(data), sep='\\s+', usecols = ['timestamp', 'level'])\n",
    "df['timestamp'] = df['timestamp'].apply(lambda x: dt.strptime(x,\"%Y-%m-%dT%H:%M:%S+02:00\"))\n",
    "df.head()"
   ]
  },
  {
   "cell_type": "code",
   "execution_count": 6,
   "id": "sixth-swiss",
   "metadata": {},
   "outputs": [
    {
     "data": {
      "text/plain": [
       "['#Site name:       SVG',\n",
       " '#Abstract:        Tides and observed water level from Stavanger',\n",
       " '#Provider:        Statens kartverk sjø (Norwegian Hydrographic Service)',\n",
       " '#Latitude:        58.97433900',\n",
       " '#Longitude:       5.73012100',\n",
       " '#Datum:           EUREF89',\n",
       " '#Time interval:   600 seconds',\n",
       " '#Reference level: CD (Chart Datum)',\n",
       " '#Z0: 67.9 cm',\n",
       " '#Start time:      2022-09-15T01:00:00+02:00',\n",
       " '#End time:        2022-09-21T01:00:00+02:00',\n",
       " '#Unit:            cm',\n",
       " '#Series1:         Water level observations']"
      ]
     },
     "execution_count": 6,
     "metadata": {},
     "output_type": "execute_result"
    }
   ],
   "source": [
    "header"
   ]
  }
 ],
 "metadata": {
  "kernelspec": {
   "display_name": "Python 3 (ipykernel)",
   "language": "python",
   "name": "python3"
  },
  "language_info": {
   "codemirror_mode": {
    "name": "ipython",
    "version": 3
   },
   "file_extension": ".py",
   "mimetype": "text/x-python",
   "name": "python",
   "nbconvert_exporter": "python",
   "pygments_lexer": "ipython3",
   "version": "3.8.10"
  }
 },
 "nbformat": 4,
 "nbformat_minor": 5
}
